{
 "cells": [
  {
   "cell_type": "code",
   "execution_count": null,
   "id": "169dd78c-4f5a-4d9f-8a1c-c0c5ca384c90",
   "metadata": {},
   "outputs": [],
   "source": [
    "import itertools\n",
    "import warnings\n",
    "\n",
    "import matplotlib.pyplot as plt\n",
    "import numpy as np\n",
    "import pandas as pd\n",
    "import seaborn as sns\n",
    "from scipy import stats"
   ]
  },
  {
   "cell_type": "code",
   "execution_count": null,
   "id": "b82cf100-014f-47dc-9ffc-8067fb872163",
   "metadata": {},
   "outputs": [],
   "source": [
    "# Plot styling.\n",
    "plt.style.use([\"seaborn-v0_8-white\", \"seaborn-v0_8-paper\"])\n",
    "colors = np.asarray(\n",
    "    [\"#9e0059\", \"#6da7de\", \"#ee266d\", \"#dee000\", \"#eb861e\", \"#63c5b5\"]\n",
    ")\n",
    "sns.set_palette(colors)\n",
    "sns.set_context(\"paper\")"
   ]
  },
  {
   "cell_type": "markdown",
   "id": "1c76a2fc-d381-4f94-869d-896a16d44466",
   "metadata": {},
   "source": [
    "### Convert gene names to UniProt ids"
   ]
  },
  {
   "cell_type": "code",
   "execution_count": null,
   "id": "9a8181e3-bc33-499f-9069-1d27782db4a2",
   "metadata": {},
   "outputs": [],
   "source": [
    "gene_names = set()\n",
    "with open(\n",
    "    \"../data/external/crocosphaera_watsonii_wh_8501_200811.fasta\"\n",
    ") as f_in:\n",
    "    for line in f_in:\n",
    "        if line.startswith(\">\"):\n",
    "            gene_names.add(line.split()[2])\n",
    "\n",
    "gene_to_uniprot = pd.read_csv(\n",
    "    \"../data/external/crocosphaera_watsonii_wh_8501_uniprot_20210912.tab\",\n",
    "    sep=\"\\t\",\n",
    "    usecols=[\"Entry\", \"Gene names\"],\n",
    ")\n",
    "gene_to_uniprot[\"Gene names\"] = gene_to_uniprot[\"Gene names\"].str.split()\n",
    "gene_to_uniprot = (\n",
    "    gene_to_uniprot.explode(\"Gene names\")\n",
    "    .set_index(\"Gene names\")\n",
    "    .squeeze()\n",
    "    .to_dict()\n",
    ")"
   ]
  },
  {
   "cell_type": "markdown",
   "id": "06346a7e-ffa2-4b78-80e5-24063c18c32c",
   "metadata": {},
   "source": [
    "### Load protein abundance data\n",
    "\n",
    "Impute missing values by half of the minimum measured abundance."
   ]
  },
  {
   "cell_type": "code",
   "execution_count": null,
   "id": "9b02c609-adfb-4821-8f9e-9a2b91fda69f",
   "metadata": {},
   "outputs": [],
   "source": [
    "col_day = (\n",
    "    [\n",
    "        f\"151222_WH8501diel_T{i}_2ug\" for i in itertools.chain(\n",
    "            range (1, 5), range (13, 17)\n",
    "        )\n",
    "    ]\n",
    ")\n",
    "col_night = [f\"151222_WH8501diel_T{i}_2ug\" for i in range (5, 13)]\n",
    "\n",
    "protein_abundances = pd.read_csv(\n",
    "    \"../data/processed/160214_Crocodiel_Full_rawdata_noheader_fig_may7annotation.csv\",\n",
    "    usecols=[\n",
    "        \"Identified Proteins (1170)\", \"Molecular Weight\", *col_day, *col_night\n",
    "    ],\n",
    "    thousands=\",\",\n",
    ")\n",
    "\n",
    "# Map gene names to UniProt ids.\n",
    "protein_abundances[\"uniprot_id\"] = (\n",
    "    protein_abundances[\"Identified Proteins (1170)\"].str.split().str[1]\n",
    "    .map(gene_to_uniprot)\n",
    ")\n",
    "\n",
    "protein_abundances = (\n",
    "    protein_abundances[protein_abundances[\"Molecular Weight\"] != \"?\"]\n",
    "    .drop(columns=[\"Identified Proteins (1170)\", \"Molecular Weight\"])\n",
    "    .sort_values(\"uniprot_id\")\n",
    "    .set_index(\"uniprot_id\")\n",
    "    .drop_duplicates()\n",
    ")\n",
    "\n",
    "# Replace missing observations by half the minimum measured.\n",
    "protein_abundances = protein_abundances.replace(0, np.nan)\n",
    "min_non_zero = protein_abundances.min().min() / 2\n",
    "protein_abundances = protein_abundances.fillna(min_non_zero)"
   ]
  },
  {
   "cell_type": "markdown",
   "id": "11057533-0ace-4077-8324-ff5de735d3e4",
   "metadata": {},
   "source": [
    "### Protein differences between night and day\n",
    "\n",
    "- Log2 fold change of the mean protein abundance between night and day.\n",
    "- P-value between individual measurements in each of time and day. P-values are corrected for multiple testing using the Benjamini-Hochberg procedure."
   ]
  },
  {
   "cell_type": "code",
   "execution_count": null,
   "id": "237a13bc-e683-4d1b-99bd-905457bd7ce4",
   "metadata": {},
   "outputs": [],
   "source": [
    "# Calculate log fold changes between day and night.\n",
    "protein_abundances[\"day\"] = protein_abundances[col_day].mean(axis=1)\n",
    "protein_abundances[\"night\"] = protein_abundances[col_night].mean(axis=1)\n",
    "\n",
    "protein_abundances[\"log2fc\"] = np.log2(\n",
    "    protein_abundances[\"day\"] / protein_abundances[\"night\"]\n",
    ")"
   ]
  },
  {
   "cell_type": "code",
   "execution_count": null,
   "id": "57127d7b-c10a-4a98-bdfd-d98aedc47f77",
   "metadata": {},
   "outputs": [],
   "source": [
    "# Calculate p-values between day and night.\n",
    "with warnings.catch_warnings(action=\"ignore\"):\n",
    "    protein_abundances[\"pvalue\"] = protein_abundances.apply(\n",
    "        lambda row: stats.ttest_ind(row[col_day], row[col_night])[1], axis=1\n",
    "    )\n",
    "protein_abundances[\"pvalue\"] = protein_abundances[\"pvalue\"].fillna(1)\n",
    "protein_abundances[\"pvalue\"] = stats.false_discovery_control(\n",
    "    protein_abundances[\"pvalue\"], method=\"bh\"\n",
    ")\n",
    "protein_abundances[\"-log10pvalue\"] = -np.log10(protein_abundances[\"pvalue\"])"
   ]
  },
  {
   "cell_type": "code",
   "execution_count": null,
   "id": "386d2ab0-5101-437e-a986-bfc5abc44a36",
   "metadata": {},
   "outputs": [],
   "source": [
    "# Export significant proteins (and include cluster assignments).\n",
    "cluster_ids = pd.read_csv(\"cluster_ids.csv\", index_col=\"uniprot_id\")\n",
    "\n",
    "signif_proteins = protein_abundances[[\"log2fc\", \"pvalue\"]]\n",
    "signif_proteins = signif_proteins[\n",
    "    (signif_proteins[\"log2fc\"].abs() > 1) & (signif_proteins[\"pvalue\"] < 0.05)\n",
    "]\n",
    "signif_proteins[\"gene_name\"] = signif_proteins.index.map(\n",
    "    dict((v, k) for k, v in gene_to_uniprot.items())\n",
    ")\n",
    "signif_proteins = signif_proteins.join(cluster_ids)\n",
    "signif_proteins = signif_proteins.sort_values([\"cluster_id\", \"gene_name\"])\n",
    "col_order = [\"gene_name\", \"cluster_id\", \"log2fc\", \"pvalue\"]\n",
    "signif_proteins[col_order].to_csv(\"signif_proteins.csv\")"
   ]
  },
  {
   "cell_type": "markdown",
   "id": "3a08e193-8389-4631-b98a-a5a61bc94d22",
   "metadata": {},
   "source": [
    "### Volcano plot"
   ]
  },
  {
   "cell_type": "code",
   "execution_count": null,
   "id": "3183c641-2083-4296-8644-13bf9d8e8e75",
   "metadata": {},
   "outputs": [],
   "source": [
    "width = 3.5\n",
    "height = width / 1.618\n",
    "fig, ax = plt.subplots(figsize=(width, height))\n",
    "\n",
    "ax.scatter(\n",
    "    protein_abundances[\"log2fc\"],\n",
    "    protein_abundances[\"-log10pvalue\"],\n",
    "    marker=\".\",\n",
    "    c=\"black\",\n",
    ")\n",
    "\n",
    "ax.scatter(\n",
    "    signif_proteins[\"log2fc\"],\n",
    "    -np.log10(signif_proteins[\"pvalue\"]),\n",
    "    marker=\".\",\n",
    "    c=colors[signif_proteins[\"cluster_id\"] - 1],\n",
    ")\n",
    "\n",
    "# Highlight significance thresholds.\n",
    "plt.axhline(y=-np.log10(0.05), c=\"darkgray\", ls=\"--\")\n",
    "plt.axvline(x=1, c=\"darkgray\", ls=\"--\")\n",
    "plt.axvline(x=-1, c=\"darkgray\", ls=\"--\")\n",
    "\n",
    "ax.set_xlabel(\"log2(fold change day to night)\")\n",
    "ax.set_ylabel(\"log10(p-value)\")\n",
    "\n",
    "ax.set_xlim(-(xlim := np.abs(ax.get_xlim()).max()), xlim)\n",
    "ax.set_ylim(0, ax.get_ylim()[1])\n",
    "\n",
    "plt.savefig(\"signif_proteins.png\", dpi=300, bbox_inches=\"tight\")\n",
    "plt.show()\n",
    "plt.close()"
   ]
  }
 ],
 "metadata": {
  "kernelspec": {
   "display_name": "Python 3 (ipykernel)",
   "language": "python",
   "name": "python3"
  },
  "language_info": {
   "codemirror_mode": {
    "name": "ipython",
    "version": 3
   },
   "file_extension": ".py",
   "mimetype": "text/x-python",
   "name": "python",
   "nbconvert_exporter": "python",
   "pygments_lexer": "ipython3",
   "version": "3.11.4"
  }
 },
 "nbformat": 4,
 "nbformat_minor": 5
}
