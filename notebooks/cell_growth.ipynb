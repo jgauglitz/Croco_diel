{
 "cells": [
  {
   "cell_type": "code",
   "execution_count": null,
   "id": "f3532375-05d8-41fc-8d73-352daafd22a9",
   "metadata": {},
   "outputs": [],
   "source": [
    "import matplotlib.pyplot as plt\n",
    "import matplotlib.ticker as mticker\n",
    "import numpy as np\n",
    "import pandas as pd\n",
    "import seaborn as sns"
   ]
  },
  {
   "cell_type": "code",
   "execution_count": null,
   "id": "9f8c16b5-23c6-4950-80f0-e01ca0371d5f",
   "metadata": {},
   "outputs": [],
   "source": [
    "# Plot styling.\n",
    "plt.style.use([\"seaborn-v0_8-white\", \"seaborn-v0_8-paper\"])\n",
    "colors = np.asarray(\n",
    "    [\"#9e0059\", \"#6da7de\", \"#ee266d\", \"#dee000\", \"#eb861e\", \"#63c5b5\"]\n",
    ")\n",
    "sns.set_palette(colors)\n",
    "sns.set_context(\"paper\")"
   ]
  },
  {
   "cell_type": "code",
   "execution_count": null,
   "id": "7e2a870e-d076-40d3-9b39-a3bc1876e5e5",
   "metadata": {},
   "outputs": [],
   "source": [
    "cell_growth = pd.read_csv(\"../data/processed/cell_growth_diel.csv\")"
   ]
  },
  {
   "cell_type": "code",
   "execution_count": null,
   "id": "9629bcf9-bb10-424e-8c7e-925c6bdd8498",
   "metadata": {},
   "outputs": [],
   "source": [
    "width = 3.5\n",
    "height = width / 1.618\n",
    "fig, ax = plt.subplots(figsize=(width, height))\n",
    "\n",
    "ax.plot(\n",
    "    cell_growth[\"Time from start of experiment (hrs)\"],\n",
    "    cell_growth[\"Abundance (cells/ml)\"],\n",
    "    \"-o\",\n",
    "    clip_on=False,\n",
    ")\n",
    "\n",
    "ax.set_xlim(0, 24)\n",
    "ax.set_ylim(6e5, 1e6)\n",
    "\n",
    "# Highlight night period.\n",
    "ax.axvspan(5.5, 16.5, color=\"lightgray\")\n",
    "\n",
    "# Set x ticks every 3 hours.\n",
    "ax.xaxis.set_major_locator(mticker.MultipleLocator(3))\n",
    "\n",
    "ax.set_xlabel(\"Hours\")\n",
    "ax.set_ylabel(\"Abundance (cells/ml)\")\n",
    "\n",
    "sns.despine(ax=ax)\n",
    "\n",
    "plt.tight_layout()\n",
    "\n",
    "plt.savefig(\"cell_growth.png\", dpi=300, bbox_inches=\"tight\")\n",
    "plt.show()\n",
    "plt.close()"
   ]
  }
 ],
 "metadata": {
  "kernelspec": {
   "display_name": "Python 3 (ipykernel)",
   "language": "python",
   "name": "python3"
  },
  "language_info": {
   "codemirror_mode": {
    "name": "ipython",
    "version": 3
   },
   "file_extension": ".py",
   "mimetype": "text/x-python",
   "name": "python",
   "nbconvert_exporter": "python",
   "pygments_lexer": "ipython3",
   "version": "3.11.4"
  }
 },
 "nbformat": 4,
 "nbformat_minor": 5
}
